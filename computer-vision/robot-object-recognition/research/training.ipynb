{
 "cells": [
  {
   "cell_type": "markdown",
   "id": "76ac7e29-1804-42ea-ad85-a5f222bb31d2",
   "metadata": {},
   "source": [
    "# Requirements"
   ]
  },
  {
   "cell_type": "code",
   "execution_count": null,
   "id": "9a399f81-195b-417a-9303-c371a1090712",
   "metadata": {},
   "outputs": [],
   "source": []
  },
  {
   "cell_type": "markdown",
   "id": "16d847bf-0b50-470c-9686-e6d71c23f48a",
   "metadata": {
    "tags": []
   },
   "source": [
    "# Imports"
   ]
  },
  {
   "cell_type": "code",
   "execution_count": null,
   "id": "aadaba0b-53e2-4ece-a11a-89c4de530709",
   "metadata": {},
   "outputs": [],
   "source": []
  },
  {
   "cell_type": "markdown",
   "id": "d92eb3dd-f298-417c-b68b-04694c559624",
   "metadata": {
    "tags": []
   },
   "source": [
    "# Train CNN with TensorFlow"
   ]
  },
  {
   "cell_type": "code",
   "execution_count": null,
   "id": "e343ad6e-3762-4f89-b82f-9c2673e94b31",
   "metadata": {},
   "outputs": [],
   "source": []
  },
  {
   "cell_type": "markdown",
   "id": "20d55357-095e-45fd-b0ac-5c8581f9563c",
   "metadata": {},
   "source": [
    "# Train CNN with Keras"
   ]
  },
  {
   "cell_type": "code",
   "execution_count": null,
   "id": "35c8e408-32f3-4b4f-9d5d-175ece3152ef",
   "metadata": {},
   "outputs": [],
   "source": [
    "\n",
    "# explore keras mnist dataset\n",
    "from keras.datasets import mnist\n",
    "(train_images, train_labels), (test_images, test_labels) = mnist.load_data()\n"
   ]
  },
  {
   "cell_type": "code",
   "execution_count": null,
   "id": "4f5736b2-4a6c-4c84-8601-d213e37afc00",
   "metadata": {},
   "outputs": [],
   "source": [
    "\n",
    "# the data that model will learn from\n",
    "# train_images, train_labels\n",
    "# The images are encoded as Numpy arrays, and \n",
    "# the labels are an array of digits, ranging from 0 to 9.\n"
   ]
  },
  {
   "cell_type": "code",
   "execution_count": null,
   "id": "518038ab-dfa7-41a8-80a3-586cf6b090b6",
   "metadata": {},
   "outputs": [],
   "source": [
    "\n",
    "len(train_images[0])\n",
    "train_images.shape\n",
    "\n",
    "# 28x28 pixels\n",
    "img_1 = train_images[0]\n",
    "\n",
    "train_labels.shape\n",
    "\n",
    "train_labels[0]\n"
   ]
  }
 ],
 "metadata": {
  "kernelspec": {
   "display_name": "Python 3 (ipykernel)",
   "language": "python",
   "name": "python3"
  },
  "language_info": {
   "codemirror_mode": {
    "name": "ipython",
    "version": 3
   },
   "file_extension": ".py",
   "mimetype": "text/x-python",
   "name": "python",
   "nbconvert_exporter": "python",
   "pygments_lexer": "ipython3",
   "version": "3.9.18"
  }
 },
 "nbformat": 4,
 "nbformat_minor": 5
}
