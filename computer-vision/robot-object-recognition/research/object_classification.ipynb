{
 "cells": [
  {
   "cell_type": "markdown",
   "id": "76ac7e29-1804-42ea-ad85-a5f222bb31d2",
   "metadata": {},
   "source": [
    "# Requirements"
   ]
  },
  {
   "cell_type": "code",
   "execution_count": null,
   "id": "9a399f81-195b-417a-9303-c371a1090712",
   "metadata": {},
   "outputs": [],
   "source": []
  },
  {
   "cell_type": "markdown",
   "id": "16d847bf-0b50-470c-9686-e6d71c23f48a",
   "metadata": {
    "tags": []
   },
   "source": [
    "# Imports"
   ]
  },
  {
   "cell_type": "code",
   "execution_count": null,
   "id": "aadaba0b-53e2-4ece-a11a-89c4de530709",
   "metadata": {},
   "outputs": [],
   "source": []
  },
  {
   "cell_type": "markdown",
   "id": "d92eb3dd-f298-417c-b68b-04694c559624",
   "metadata": {
    "tags": []
   },
   "source": [
    "# Train CNN with TensorFlow"
   ]
  },
  {
   "cell_type": "code",
   "execution_count": null,
   "id": "e343ad6e-3762-4f89-b82f-9c2673e94b31",
   "metadata": {},
   "outputs": [],
   "source": []
  },
  {
   "cell_type": "markdown",
   "id": "20d55357-095e-45fd-b0ac-5c8581f9563c",
   "metadata": {},
   "source": [
    "# Train CNN with Keras"
   ]
  },
  {
   "cell_type": "code",
   "execution_count": 1,
   "id": "35c8e408-32f3-4b4f-9d5d-175ece3152ef",
   "metadata": {},
   "outputs": [
    {
     "ename": "SyntaxError",
     "evalue": "invalid syntax (1436181133.py, line 10)",
     "output_type": "error",
     "traceback": [
      "\u001b[0;36m  Cell \u001b[0;32mIn[1], line 10\u001b[0;36m\u001b[0m\n\u001b[0;31m    rom keras.utils import to_categorical\u001b[0m\n\u001b[0m        ^\u001b[0m\n\u001b[0;31mSyntaxError\u001b[0m\u001b[0;31m:\u001b[0m invalid syntax\n"
     ]
    }
   ],
   "source": [
    "\n",
    "\n",
    "# the data that model will learn from\n",
    "# train_images, train_labels\n",
    "# The images are encoded as Numpy arrays, and \n",
    "# the labels are an array of digits, ranging from 0 to 9.\n",
    "\n",
    "# explore keras mnist dataset\n",
    "from keras.datasets import mnist\n",
    "from keras import models\n",
    "from keras import layers\n",
    "rom keras.utils import to_categorical\n",
    "\n",
    "(train_images, train_labels), (test_images, test_labels) = mnist.load_data()\n",
    "\n",
    "# resape and scale\n",
    "train_images = train_images.reshape((60000, 28 * 28))\n",
    "train_images = train_images.astype('float32') / 255\n",
    "test_images = test_images.reshape((10000, 28 * 28))\n",
    "test_images = test_images.astype('float32') / 255\n",
    "\n",
    "len(train_images[0])\n",
    "train_images.shape\n",
    "# 28x28 pixels\n",
    "img_1 = train_images[0]\n",
    "\n",
    "train_labels.shape\n",
    "len(train_labels)\n",
    "train_labels[0]\n",
    "\n",
    "test_images.shape\n",
    "len(test_labels)\n",
    "\n",
    "train_images = train_images.reshape((60000, 28 * 28))\n",
    "train_images = train_images.astype('float32') / 255\n",
    "test_images = test_images.reshape((10000, 28 * 28))\n",
    "test_images = test_images.astype('float32') / 255\n",
    "\n",
    "train_labels = to_categorical(train_labels)\n",
    "test_labels = to_categorical(test_labels)\n",
    "\n",
    "# network consists of sequence of 2 Dense layers, which are densely/fully connected\n",
    "# softmax = array of 10 probability scores\n",
    "network = models.Sequential()\n",
    "network.add(layers.Dense(512, activation='relu', input_shape=(28 * 28,)))\n",
    "network.add(layers.Dense(10, activation='softmax'))\n",
    "\n",
    "network.compile(optimizer='rmsprop',\n",
    "                loss='categorical_crossentropy',\n",
    "                metrics=['accuracy'])\n",
    "\n",
    "network.fit(train_images, train_labels, epochs=5, batch_size=128)\n",
    "\n",
    "test_loss, test_acc = network.evaluate(test_images, test_labels)\n"
   ]
  },
  {
   "cell_type": "code",
   "execution_count": null,
   "id": "4f5736b2-4a6c-4c84-8601-d213e37afc00",
   "metadata": {},
   "outputs": [],
   "source": [
    "\n",
    "keras.layers.Dense(512, activation='relu')\n",
    "\n",
    "# a dot product (dot) between the input tensor and a tensor named W\n",
    "# an addition (+) between the resulting 2D ten- sor and a vector b\n",
    "# a relu operation. relu(x) is max(x, 0)\n",
    "output = relu(dot(W, input) + b)\n"
   ]
  },
  {
   "cell_type": "code",
   "execution_count": null,
   "id": "518038ab-dfa7-41a8-80a3-586cf6b090b6",
   "metadata": {},
   "outputs": [],
   "source": [
    "\n",
    "from keras import models\n",
    "from keras import layers\n",
    "\n",
    "model = models.Sequential()\n",
    "\n",
    "# This layer will return a tensor where the first dimension has been trans- formed to be 32. \n",
    "model.add(layers.Dense(32, input_shape=(784,)))\n",
    "\n",
    "# Thus this layer can only be connected to a downstream layer that expects 32- dimensional vectors as its input.\n",
    "model.add(layers.Dense(32))\n"
   ]
  },
  {
   "cell_type": "code",
   "execution_count": null,
   "id": "d84ccc7c-cbf8-4b13-9c3f-09a4eea15d39",
   "metadata": {},
   "outputs": [],
   "source": [
    "\n",
    "from keras import models\n",
    "from keras import layers\n",
    "model = models.Sequential()\n",
    "model.add(layers.Dense(32, activation='relu', input_shape=(784,)))\n",
    "model.add(layers.Dense(10, activation='softmax'))\n",
    "\n",
    "# And here’s the same model defined using the functional API:\n",
    "\n",
    "input_tensor = layers.Input(shape=(784,))\n",
    "x = layers.Dense(32, activation='relu')(input_tensor)\n",
    "output_tensor = layers.Dense(10, activation='softmax')(x)\n",
    "model = models.Model(inputs=input_tensor, outputs=output_tensor)\n",
    "\n",
    "from keras import optimizers\n",
    "model.compile(optimizer=optimizers.RMSprop(lr=0.001),\n",
    "              loss='mse',\n",
    "              metrics=['accuracy'])\n",
    "\n",
    "model.fit(input_tensor, target_tensor, batch_size=128, epochs=10)\n"
   ]
  },
  {
   "cell_type": "code",
   "execution_count": null,
   "id": "4172b29f-c8d2-4692-b944-6c2cd9a47589",
   "metadata": {},
   "outputs": [],
   "source": [
    "\n",
    "\n",
    "model = models.Sequential()\n",
    "model.add(layers.Dense(16, kernel_regularizer=regularizers.l2(0.001),\n",
    "activation='relu', input_shape=(10000,))) model.add(layers.Dense(16, kernel_regularizer=regularizers.l2(0.001),\n",
    "                       activation='relu'))\n",
    "model.add(layers.Dense(1, activation='sigmoid'))\n",
    "\n",
    "# l1\n",
    "regularizers.l1(0.001)\n",
    "\n",
    "# simultaneous\n",
    "regularizers.l1_l2(l1=0.001, l2=0.001)\n"
   ]
  },
  {
   "cell_type": "code",
   "execution_count": null,
   "id": "1008ccbc-00e9-43dd-91e3-1c02fea710b8",
   "metadata": {},
   "outputs": [],
   "source": [
    "\n",
    "model = models.Sequential()\n",
    "model.add(layers.Dense(16, activation='relu', input_shape=(10000,)))\n",
    "model.add(layers.Dropout(0.5))\n",
    "model.add(layers.Dense(16, activation='relu'))\n",
    "model.add(layers.Dropout(0.5))\n",
    "model.add(layers.Dense(1, activation='sigmoid'))\n",
    "        "
   ]
  }
 ],
 "metadata": {
  "kernelspec": {
   "display_name": "Python 3 (ipykernel)",
   "language": "python",
   "name": "python3"
  },
  "language_info": {
   "codemirror_mode": {
    "name": "ipython",
    "version": 3
   },
   "file_extension": ".py",
   "mimetype": "text/x-python",
   "name": "python",
   "nbconvert_exporter": "python",
   "pygments_lexer": "ipython3",
   "version": "3.9.18"
  }
 },
 "nbformat": 4,
 "nbformat_minor": 5
}
