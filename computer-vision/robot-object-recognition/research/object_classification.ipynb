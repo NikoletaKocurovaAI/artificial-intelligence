{
 "cells": [
  {
   "cell_type": "markdown",
   "id": "76ac7e29-1804-42ea-ad85-a5f222bb31d2",
   "metadata": {},
   "source": [
    "# Requirements"
   ]
  },
  {
   "cell_type": "markdown",
   "id": "501979b9-40ce-422c-bd0a-a20e8418a86c",
   "metadata": {
    "tags": []
   },
   "source": [
    "keras==2.14.0\n",
    "numpy==1.26.1\n",
    "tensorflow==2.14.0"
   ]
  },
  {
   "cell_type": "markdown",
   "id": "16d847bf-0b50-470c-9686-e6d71c23f48a",
   "metadata": {
    "tags": []
   },
   "source": [
    "# Imports"
   ]
  },
  {
   "cell_type": "code",
   "execution_count": 5,
   "id": "aadaba0b-53e2-4ece-a11a-89c4de530709",
   "metadata": {},
   "outputs": [],
   "source": [
    "\n",
    "import os\n",
    "import cv2\n",
    "import numpy as np\n",
    "import matplotlib.pyplot as plt\n"
   ]
  },
  {
   "cell_type": "markdown",
   "id": "5a027b97-1890-4e77-9fd0-e411aaaebe2d",
   "metadata": {},
   "source": [
    "# convnets"
   ]
  },
  {
   "cell_type": "markdown",
   "id": "67fc4f71-44ba-45a0-8650-e9c0a5284473",
   "metadata": {
    "tags": []
   },
   "source": [
    "\n",
    "**TRANSLATION INVARIANT**\n",
    "- The patterns (edges, textures, colors) they learn are translation invariant. The network has the ability recognize the same pattern or feature regardless of its position in the input image.\n",
    "\n",
    "**SPATIAL HIERARCHIES**\n",
    "- They can learn spatial hierarchies of patterns. It is their ability to learn complex patterns or features by building upon simpler patterns detected at lower layers.\n",
    "\n",
    "A convolutional neural network (CNN), which is specifically designed to work with image data. It's more suitable for tasks where the input data is structured in multiple dimensions, such as images represented as grids of pixels.\n",
    "\n",
    "**Conv2D**\n",
    "\n",
    "- a fundamental building block used for feature extraction from input images. \n",
    "- Convolution Operation: At its core, the Conv2D layer performs a convolution operation between the input image and a set of learnable filters (also known as kernels or convolutional kernels). Each filter is a small matrix of weights.\n",
    "- Feature Map: The convolution operation is applied by sliding each filter over the input image and computing the dot product between the filter and the input patch at each position. This produces a feature map, which is a 2D representation of the activations of that filter across the input image.\n",
    "- Multiple Filters: Typically, a Conv2D layer has multiple filters, and each filter learns to detect a different pattern or feature in the input image. For example, early filters might learn to detect edges or corners, while deeper filters might learn more complex patterns.\n",
    "- Parameters: The weights of the filters in the Conv2D layer are the parameters that are learned during the training process. The goal of training is to learn filters that can extract meaningful features from the input images for the task at hand (e.g., classification, object detection).\n",
    "- Padding: Optionally, the Conv2D layer can apply padding to the input image before performing the convolution operation. Padding adds extra rows and columns of zeros around the input image, which helps preserve spatial dimensions and prevent information loss at the edges of the image.\n",
    "- Strides: Additionally, the Conv2D layer can use a stride parameter to specify the step size of the filter as it slides over the input image. Larger stride values result in downsampling of the feature map, reducing its spatial dimensions.\n",
    "\n",
    "`Conv2D(output_depth, (window_height, window_width))`\n",
    "\n",
    "`input_shape=(image_height, image_width, image_channels)`\n",
    "\n",
    "Example:\n",
    "- output_depth = 32: This number represents the number of filters (also known as kernels or convolutional channels) in the convolutional layer. Each filter is a small matrix that is applied to the input image to extract features. Having multiple filters allows the network to learn different features at each location in the input image. In this case, there are 32 filters in the convolutional layer.\n",
    "- (window_height, window_width) = (3, 3): This tuple represents the size of each filter in the convolutional layer. Each filter is a small matrix with dimensions specified by this tuple. In this case, each filter is a 3x3 matrix.\n",
    "\n",
    "`model.add(layers.Conv2D(32, (3, 3), activation='relu', input_shape=(28, 28, 1)))`\n",
    "\n",
    "**MaxPooling2D**\n",
    "- a convolutional neural network (CNN) is to downsample the input representation, reducing its spatial dimensions. This helps in reducing the computational complexity of the network, as well as providing a form of translation invariance.\n",
    "- Here's how the MaxPooling2D layer works: It operates on each feature map independently. For each region of the input feature map specified by the pool size (in this case, (2, 2)), the maximum value within that region is retained. The output of the operation is a downsampled version of the input feature map, where the spatial dimensions are reduced by a factor determined by the pool size.\n",
    "- For example, if you have a (6, 6) input feature map and apply MaxPooling2D((2, 2)), you'll get a (3, 3) output feature map, as each (2, 2) region is reduced to a single value (the maximum value in that region).\n",
    "- The purpose of this downsampling operation is to: Reduce the number of parameters in the network, thus reducing computational complexity and memory requirements. Increase the receptive field of later layers, allowing them to capture more abstract features by aggregating information from larger regions of the input. Provide a form of translation invariance, making the network more robust to small variations in the position of features within the input images.\n",
    "\n",
    "`model.add(layers.MaxPooling2D((2, 2)))`\n",
    "\n",
    "The output of MaxPooling2D layer is a 3D tensor of shape (height, width, channels). The 3D (3, 3, 32) outputs are flattened into 1D vector of shape (288,) before going through two Dense layers.\n",
    "\n",
    "`model.add(layers.Flatten())`\n",
    "\n",
    "The next step is to feed the last output tensor (of shape (3, 3, 32)) into a densely connected classifier network. Do i.e. the 10-way classification, using a final layer with 10 outputs and a softmax activation.\n",
    "\n",
    "`model.add(layers.Dense(64, activation='relu'))`\n",
    "`model.add(layers.Dense(10, activation='softmax'))`\n",
    "\n",
    "See the model architecture:\n",
    "\n",
    "`model.summary()`\n"
   ]
  },
  {
   "cell_type": "markdown",
   "id": "d7eed57e-5202-40a8-92b6-210dbaaaae86",
   "metadata": {},
   "source": [
    "## Common"
   ]
  },
  {
   "cell_type": "code",
   "execution_count": null,
   "id": "5f85b370-2b78-4e19-87ea-dd5d70a3c4e5",
   "metadata": {},
   "outputs": [],
   "source": [
    "\n",
    "def prepare_images_for_convnet(dir_images: str, images_names: list[str]) -> np.array:\n",
    "    loaded_images: list[np.ndarray] = list()\n",
    "    \n",
    "    for image_name in images_names:\n",
    "        image: np.ndarray = cv2.imread(dir_images + image_name)\n",
    "\n",
    "        try:\n",
    "            image = cv2.cvtColor(image, cv2.COLOR_BGR2RGB)\n",
    "            image = image / 255.0  # Normalize pixel values to [0, 1]\n",
    "\n",
    "            loaded_images.append(image)\n",
    "\n",
    "        except Exception as e:\n",
    "            print(image_name)\n",
    "\n",
    "    loaded_images = np.array(loaded_images)\n",
    "\n",
    "    print(f\"Expected no. of images: {len(images_names)}\")\n",
    "    print(f\"Loaded no. of images: {len(loaded_images)}\")\n",
    "\n",
    "    image_sample: np.ndarray = loaded_images[0]\n",
    "\n",
    "    # Plot the image\n",
    "    plt.imshow(image_sample)\n",
    "    plt.axis('off')  # Turn off axis labels\n",
    "    plt.show()\n",
    "\n",
    "    return loaded_images\n"
   ]
  },
  {
   "cell_type": "markdown",
   "id": "d92eb3dd-f298-417c-b68b-04694c559624",
   "metadata": {
    "tags": []
   },
   "source": [
    "## Train CNN with TensorFlow"
   ]
  },
  {
   "cell_type": "code",
   "execution_count": 6,
   "id": "e343ad6e-3762-4f89-b82f-9c2673e94b31",
   "metadata": {},
   "outputs": [
    {
     "name": "stderr",
     "output_type": "stream",
     "text": [
      "2024-03-16 11:54:51.174133: I tensorflow/core/platform/cpu_feature_guard.cc:182] This TensorFlow binary is optimized to use available CPU instructions in performance-critical operations.\n",
      "To enable the following instructions: AVX2 FMA, in other operations, rebuild TensorFlow with the appropriate compiler flags.\n"
     ]
    }
   ],
   "source": [
    "\n",
    "import tensorflow as tf\n"
   ]
  },
  {
   "cell_type": "code",
   "execution_count": null,
   "id": "8fdb674b-1074-4601-973c-f52095d0b8fe",
   "metadata": {},
   "outputs": [],
   "source": [
    "\n",
    "# load data\n",
    "base_path = \"data/images_with_padding/\"\n",
    "\n",
    "train_images_names_cup = [\n",
    "    \"cropped_train_image_cropped_train_image_127_0.jpg\",\n",
    "    \"cropped_train_image_cropped_train_image_3464_0.jpg\",\n",
    "    \"cropped_train_image_cropped_train_image_3703_0.jpg\",\n",
    "    \"cropped_train_image_cropped_train_image_4108_0.jpg\",\n",
    "    \"cropped_train_image_cropped_train_image_5352_0.jpg\",\n",
    "    \"cropped_train_image_cropped_train_image_7241_0.jpg\",\n",
    "    \"cropped_train_image_cropped_train_image_7946_0.jpg\",\n",
    "    \"cropped_train_image_cropped_train_image_9156_0.jpg\",\n",
    "    \"cropped_train_image_cropped_train_image_12349_0.jpg\",\n",
    "    \"cropped_train_image_cropped_train_image_12422_0.jpg\",\n",
    "    \"cropped_train_image_cropped_train_image_12930_0.jpg\",\n",
    "    \"cropped_train_image_cropped_train_image_16796_0.jpg\"\n",
    "]\n",
    "\n",
    "train_cups_images = []\n",
    "train_cups_images_labels = np.ones(1000) # example array([1, 1, 1, ..., 1, 1, 1], dtype=uint8)\n",
    "\n",
    "train_images_names_apple = [\n",
    "    \"cropped_train_image_cropped_train_image_2892_0.jpg\",\n",
    "    \"cropped_train_image_cropped_train_image_2902_0.jpg\",\n",
    "    \"cropped_train_image_cropped_train_image_6753_1.jpg\",\n",
    "    \"cropped_train_image_cropped_train_image_7934_0.jpg\",\n",
    "    \"cropped_train_image_cropped_train_image_8691_4.jpg\",\n",
    "    \"cropped_train_image_cropped_train_image_9038_0.jpg\",\n",
    "    \"cropped_train_image_cropped_train_image_9511_0.jpg\",\n",
    "    \"cropped_train_image_cropped_train_image_10196_0.jpg\",\n",
    "    \"cropped_train_image_cropped_train_image_10478_0.jpg\",\n",
    "    \"cropped_train_image_cropped_train_image_12073_1.jpg\",\n",
    "    \"cropped_train_image_cropped_train_image_14783_0.jpg\",\n",
    "    \"cropped_train_image_cropped_train_image_15953_0.jpg\"\n",
    "]\n"
   ]
  },
  {
   "cell_type": "code",
   "execution_count": null,
   "id": "137e8f89-00dc-499d-9306-5dcf529b8e0e",
   "metadata": {},
   "outputs": [],
   "source": [
    "\n",
    "# declare training data of 640x640 pixels\n"
   ]
  },
  {
   "cell_type": "code",
   "execution_count": 8,
   "id": "24f544f0-7087-4487-b268-b4e3b8ade26c",
   "metadata": {
    "tags": []
   },
   "outputs": [
    {
     "name": "stdout",
     "output_type": "stream",
     "text": [
      "Train images shape: (60000, 28, 28)\n",
      "Train labels shape: (60000,)\n",
      "Test images shape: (10000, 28, 28)\n",
      "Test labels shape: (10000,)\n"
     ]
    }
   ],
   "source": [
    "\n",
    "import tensorflow as tf\n",
    "\n",
    "# Load MNIST dataset\n",
    "mnist = tf.keras.datasets.mnist\n",
    "\n",
    "# Load data into train and test sets\n",
    "(train_images, train_labels), (test_images, test_labels) = mnist.load_data()\n",
    "\n",
    "# Normalize pixel values to the range [0, 1]\n",
    "train_images, test_images = train_images / 255.0, test_images / 255.0\n",
    "\n",
    "# Print the shapes of train and test sets\n",
    "print(\"Train images shape:\", train_images.shape)\n",
    "print(\"Train labels shape:\", train_labels.shape)\n",
    "print(\"Test images shape:\", test_images.shape)\n",
    "print(\"Test labels shape:\", test_labels.shape)\n"
   ]
  },
  {
   "cell_type": "code",
   "execution_count": 11,
   "id": "a1668c60-af22-44be-9342-1a323b4114d0",
   "metadata": {
    "tags": []
   },
   "outputs": [
    {
     "data": {
      "text/plain": [
       "28"
      ]
     },
     "execution_count": 11,
     "metadata": {},
     "output_type": "execute_result"
    }
   ],
   "source": [
    "len(train_images[0])"
   ]
  },
  {
   "cell_type": "code",
   "execution_count": 12,
   "id": "5b73a0f3-498b-4301-a6e2-7d7ce0a444d7",
   "metadata": {
    "tags": []
   },
   "outputs": [
    {
     "data": {
      "text/plain": [
       "array([5, 0, 4, ..., 5, 6, 8], dtype=uint8)"
      ]
     },
     "execution_count": 12,
     "metadata": {},
     "output_type": "execute_result"
    }
   ],
   "source": [
    "train_labels"
   ]
  },
  {
   "cell_type": "markdown",
   "id": "20d55357-095e-45fd-b0ac-5c8581f9563c",
   "metadata": {},
   "source": [
    "# Train CNN with Keras"
   ]
  },
  {
   "cell_type": "code",
   "execution_count": 2,
   "id": "e9d4f370-b60a-4bee-9df0-c7a9e50754fe",
   "metadata": {},
   "outputs": [],
   "source": [
    "\n",
    "# to train an image-classification model using very little data\n",
    "# cup or apple\n",
    "# how many pictures for training (i.e. 2000)\n",
    "# how many for validation (i.e. 1000)\n",
    "# how many for testing (i.e. 1000)\n",
    "\n",
    "# You’ll sometimes hear that deep learning only works when lots of data is available.\n",
    "# But what constitutes lots of samples is relative—relative to the size and depth of the network you’re trying to train, for starters.\n",
    "# Because conv- nets learn local, translation-invariant features, they’re highly data efficient on percep- tual problems. \n",
    "\n",
    "# training without any regularization, to set a base-line for what can be achieved\n",
    "# At that point, the main issue will be overfitting\n",
    "\n",
    "# optimization\n",
    "# Then data augmentation, a powerful technique for mitigating overfitting in computer vision\n",
    "# use pretrained model, i.e. ImageNet\n",
    "\n",
    "# another options\n",
    "# feature extraction with a pretrained network\n",
    "# fine-tuning a pretrained network\n"
   ]
  },
  {
   "cell_type": "code",
   "execution_count": null,
   "id": "b65125a8-b89d-440f-8305-b3ccccde8a8d",
   "metadata": {},
   "outputs": [],
   "source": [
    "\n",
    "from keras import layers\n",
    "from keras import models\n",
    "from keras import optimizers\n",
    "from keras.preprocessing.image import ImageDataGenerator\n"
   ]
  },
  {
   "cell_type": "markdown",
   "id": "ace8c873-fd83-45da-8132-47703e731ce7",
   "metadata": {
    "tags": []
   },
   "source": [
    "## Padding"
   ]
  },
  {
   "cell_type": "code",
   "execution_count": 3,
   "id": "7452c378-a928-40ea-b2d8-a4804880c6f3",
   "metadata": {
    "tags": []
   },
   "outputs": [],
   "source": [
    "\n",
    "# get the list of picture names in the given directory\n",
    "\n",
    "# pad images to target shape\n",
    "# what is average width?\n",
    "# what is average height?\n",
    "\n",
    "cups_images_names = []\n",
    "width_cups = []\n",
    "height_cups = []\n",
    "\n",
    "for image_name in os.listdir(\"data/cleaned_images/cup\"):\n",
    "    cups_images_names.append(image_name)\n",
    "    \n",
    "    image = cv2.imread(\"data/cleaned_images/cup/\" + image_name)\n",
    "    \n",
    "    try:\n",
    "        height_cups.append(image.shape[0])\n",
    "        width_cups.append(image.shape[1])\n",
    "    except:\n",
    "        pass\n",
    "        # print(\"data/cleaned_images/cup/\" + image_name)\n",
    "\n",
    "# get 2000 samples\n",
    "cups_images_names_2000 = cups_images_names[:2000]\n",
    "width_cups_2000 = width_cups[:2000]\n",
    "height_cups_2000 = height_cups[:2000]\n"
   ]
  },
  {
   "cell_type": "code",
   "execution_count": 4,
   "id": "b697b3d3-9772-4136-b566-d1173648d9e4",
   "metadata": {
    "tags": []
   },
   "outputs": [],
   "source": [
    "\n",
    "# get the list of picture names in the given directory\n",
    "\n",
    "# get 2000 samples\n",
    "apples_images_names = []\n",
    "width_apples = []\n",
    "height_apples = []\n",
    "\n",
    "for image_name in os.listdir(\"data/cleaned_images/apple\"):\n",
    "    apples_images_names.append(image_name)\n",
    "    \n",
    "    image = cv2.imread(\"data/cleaned_images/apple/\" + image_name)\n",
    "\n",
    "    try:\n",
    "        height_apples.append(image.shape[0])\n",
    "        width_apples.append(image.shape[1])\n",
    "    except:\n",
    "        pass\n",
    "\n",
    "apples_images_names_2000 = apples_images_names[:2000]\n",
    "width_apples_2000 = width_apples[:2000]\n",
    "height_apples_2000 = height_apples[:2000]\n"
   ]
  },
  {
   "cell_type": "code",
   "execution_count": 5,
   "id": "7cef96c2-f199-4177-8977-836c3b819493",
   "metadata": {
    "tags": []
   },
   "outputs": [
    {
     "name": "stdout",
     "output_type": "stream",
     "text": [
      "Max width 640\n",
      "Max height 632\n"
     ]
    }
   ],
   "source": [
    "\n",
    "width_images = width_cups_2000 + width_apples_2000\n",
    "height_images = height_cups_2000 + height_apples_2000\n",
    "\n",
    "print(f\"Max width {max(width_images)}\")\n",
    "print(f\"Max height {max(height_images)}\")\n",
    "\n",
    "# resize to 640x640\n"
   ]
  },
  {
   "cell_type": "code",
   "execution_count": 6,
   "id": "c96d6804-57da-4fdf-bcda-3dc1b10ca9f1",
   "metadata": {
    "tags": []
   },
   "outputs": [
    {
     "data": {
      "image/png": "[encoded data removed]",
      "text/plain": [
       "<Figure size 640x480 with 1 Axes>"
      ]
     },
     "metadata": {},
     "output_type": "display_data"
    }
   ],
   "source": [
    "\n",
    "# Create an empty canvas\n",
    "canvas = np.zeros((640, 640, 3), dtype=np.uint8)\n",
    "\n",
    "center_x = 320\n",
    "center_y = 320\n",
    "\n",
    "image = cv2.imread(\"data/cleaned_images/apple/cropped_train_image_363574_13.jpg\")\n",
    "\n",
    "image_width = image.shape[1]\n",
    "image_height = image.shape[0]\n",
    "\n",
    "# print(image_width)\n",
    "# print(image_height)\n",
    "\n",
    "start_x = int(center_x - (image_height/2))\n",
    "end_x = int(start_x + image_height)\n",
    "\n",
    "start_y = int(center_y - (image_width/2))\n",
    "end_y = int(start_y + image_width)\n",
    "\n",
    "# print(start_x)\n",
    "# print(end_x)\n",
    "\n",
    "# print(start_y)\n",
    "# print(end_y)\n",
    "\n",
    "canvas[start_x:end_x, start_y:end_y] = image\n",
    "\n",
    "# Display the canvas\n",
    "plt.imshow(canvas)\n",
    "plt.axis('off')  # Turn off axis\n",
    "plt.show()\n"
   ]
  },
  {
   "cell_type": "markdown",
   "id": "48b98f30-dd42-47c5-8d36-cb3815e8503f",
   "metadata": {},
   "source": [
    "## Nework architecture"
   ]
  },
  {
   "cell_type": "markdown",
   "id": "d8176943-f62d-4d04-a472-fabdcaeb69c8",
   "metadata": {},
   "source": [
    "### Examples"
   ]
  },
  {
   "cell_type": "code",
   "execution_count": null,
   "id": "65038b61-6828-47f0-8eba-996215325dd9",
   "metadata": {},
   "outputs": [],
   "source": [
    "\n",
    "# Example 1\n",
    "\n",
    "### simple feedforward neural network with fully connected layers ###\n",
    "\n",
    "# Feedforward neural networks are typically used for tasks where the input data is represented as a flat vector, such as tabular data or \n",
    "# pre-extracted features. In the context of image data, the approach of flattening the image into a vector and feeding it directly into a \n",
    "# feedforward neural network is often less effective compared to using convolutional neural networks (CNNs).\n",
    "\n",
    "# network consists of sequence of 2 Dense layers, which are densely/fully connected\n",
    "network = models.Sequential()\n",
    "\n",
    "# (28 * 28,) corresponds to a 1D shape of length 784. This means the input data is expected to be a flat vector of length 784 \n",
    "# (such as flattened images with dimensions 28x28).\n",
    "network.add(layers.Dense(512, activation='relu', input_shape=(28 * 28,)))\n",
    "\n",
    "# softmax = array of 10 probability scores\n",
    "network.add(layers.Dense(10, activation='softmax'))\n"
   ]
  },
  {
   "cell_type": "code",
   "execution_count": null,
   "id": "ef69e6e9-e849-415e-b89e-b3fedcd1325b",
   "metadata": {},
   "outputs": [],
   "source": [
    "\n",
    "# Example 2\n",
    "\n",
    "model = models.Sequential()\n",
    "\n",
    "# This layer will return a tensor where the first dimension has been trans- formed to be 32.\n",
    "# the default activation function is the linear activation function\n",
    "# Here, input_shape=(784,) specifies the shape of the input data expected by the first layer of the model. \n",
    "# Similarly, (784,) corresponds to a 1D shape of length 784. This also means the input data is expected to be a flat vector of length 784.\n",
    "model.add(layers.Dense(32, input_shape=(784,)))\n",
    "\n",
    "# Thus this layer can only be connected to a downstream layer that expects 32- dimensional vectors as its input.\n",
    "# # the default activation function is the linear activation function\n",
    "model.add(layers.Dense(32))\n"
   ]
  },
  {
   "cell_type": "code",
   "execution_count": null,
   "id": "cb69046f-bb9f-4206-9463-594d57b976e5",
   "metadata": {},
   "outputs": [],
   "source": [
    "\n",
    "# Example 3\n",
    "\n",
    "model = models.Sequential()\n",
    "model.add(layers.Dense(32, activation='relu', input_shape=(784,)))\n",
    "model.add(layers.Dense(10, activation='softmax'))\n",
    "\n",
    "# And here’s the same model defined using the functional API:\n",
    "\n",
    "input_tensor = layers.Input(shape=(784,))\n",
    "x = layers.Dense(32, activation='relu')(input_tensor)\n",
    "output_tensor = layers.Dense(10, activation='softmax')(x)\n",
    "model = models.Model(inputs=input_tensor, outputs=output_tensor)\n"
   ]
  },
  {
   "cell_type": "code",
   "execution_count": null,
   "id": "30f50bfd-502a-4e01-8406-bc0925a6fa72",
   "metadata": {},
   "outputs": [],
   "source": [
    "\n",
    "# Example 4\n",
    "\n",
    "model = models.Sequential()\n",
    "model.add(layers.Dense(16, kernel_regularizer=regularizers.l2(0.001),\n",
    "activation='relu', input_shape=(10000,))) model.add(layers.Dense(16, kernel_regularizer=regularizers.l2(0.001),\n",
    "                       activation='relu'))\n",
    "model.add(layers.Dense(1, activation='sigmoid'))\n",
    "\n",
    "# l1\n",
    "# regularizers.l1(0.001)\n",
    "\n",
    "# simultaneous\n",
    "# regularizers.l1_l2(l1=0.001, l2=0.001)\n"
   ]
  },
  {
   "cell_type": "code",
   "execution_count": null,
   "id": "66389027-b7bf-44c6-a0f2-c61540d32c23",
   "metadata": {},
   "outputs": [],
   "source": [
    "\n",
    "# Example 5\n",
    "\n",
    "### a feedforward neural network with fully connected layers, but with the addition of dropout regularization. ###\n",
    "\n",
    "model = models.Sequential()\n",
    "model.add(layers.Dense(16, activation='relu', input_shape=(10000,)))\n",
    "model.add(layers.Dropout(0.5))\n",
    "model.add(layers.Dense(16, activation='relu'))\n",
    "model.add(layers.Dropout(0.5))\n",
    "model.add(layers.Dense(1, activation='sigmoid'))\n",
    "\n",
    "# a dot product (dot) between the input tensor and a tensor named W\n",
    "# an addition (+) between the resulting 2D ten- sor and a vector b\n",
    "# a relu operation. relu(x) is max(x, 0)\n",
    "output = relu(dot(W, input) + b)\n"
   ]
  },
  {
   "cell_type": "markdown",
   "id": "c67b8907-31ee-4c64-bcca-27e02fc161e7",
   "metadata": {},
   "source": [
    "### Own convnet"
   ]
  },
  {
   "cell_type": "code",
   "execution_count": 2,
   "id": "6b12802e-d0a6-4f33-b02b-5011d357470c",
   "metadata": {},
   "outputs": [],
   "source": [
    "\n",
    "# current vs. MNIST\n",
    "# You’ll reuse the same general structure as for the MNIST: the convnet will be a stack of alternated Conv2D (with relu activation) and MaxPooling2D layers.\n",
    "# But because you’re dealing with bigger images and a more complex problem, you’ll make your network larger, accordingly: it will have one more Conv2D + MaxPooling2D stage. \n",
    "\n",
    "model = models.Sequential()\n",
    "\n",
    "# How to decide input shape of the Conv2D keras layer? => 640x640 For more information, see the padding section.\n",
    "# This serves both to augment the capacity of the network and to further reduce the size of the feature maps so they aren’t overly large when you reach the Flatten layer. \n",
    "\n",
    "# Convolution operate over 2D tensors called FEATURE MAPS with two SPATIAL AXIS (height, width) and DEPTH AXIS (= channel axes; *note: 3 = RGB and 1=greyscale)\n",
    "# convnet learns local patterns found in a small 2D windows of inputs layer Conv2D\n",
    "\n",
    "# this layer takes FEATURE MAP of size (640, 640, 3); *note: input could be the original image or the output of the previous layer\n",
    "# and outputs the FEATURE MAP of size (638, 638, 32)\n",
    "\n",
    "# It computes 32 filters over its input. It means convolution filter is applied to the input FEATURE MAP.\n",
    "# The convolution filter is moved across the input FEATURE MAP in a sliding window fashion. \n",
    "# convolutin works by sliding the windows of size (3, 3) and (2, 2) over the 3D input feature map.\n",
    "# Stopping at evry possible location\n",
    "# and extracting 3D patch of surrounding features of shape (window_height, window_width, input_dept)\n",
    "# in other words:\n",
    "# When the filter is applied to a particular position of the input FEATURE MAP, it extracts a patch from the input data, that corresponds to the receptive field of the filter.\n",
    "# This patch is a subregion of the input FEATUERE MAP, that is the same size as the filter.\n",
    "\n",
    "# Each such 3D patch is then transformed\n",
    "# (via a tensor product with the same learned weight matrix, called the convolution kernel)\n",
    "# into a 1D vector of shape (output_depth)\n",
    "# in other words\n",
    "# The convolution operation computes the DOT PRODUCT between the filter and the patxh extracted frm the input FEATURE MAP.\n",
    "\n",
    "# All of these vectors are then spatially reassembled into a 3D output map of shape (height, width, output_depth). Every spatial location in the output feature map corresponds to the same\n",
    "# location in the input feature map.\n",
    "# (The lower right corner of the output contains information about the lower right corner of the input.)\n",
    "# (For instance, with 3x3 windows, the vector output[i, j, :] comes from the 3D patch input[i-1:i+1,j-1:j+1,:].)\n",
    "\n",
    "# Different filters learn to detect different patterns, and their responses collectivelly form the output FEATURE MAP of the convolution layer.\n",
    "\n",
    "# Each of these output channels contains 638x638 grid of values, which is a RESPONSE MAP of the filter over the input.\n",
    "# Here is what the term FEATURE MAP means: every dimension in the DEPTH AXIS is a feature (or filter), and the 2D\n",
    "# tensor output[:, :, n] is the 2D SPATIAL MAP of the response of tis filter over the input\n",
    "\n",
    "# BORRDER EFFECTS\n",
    "# Consider 5x5 feature map (25 tiles total)\n",
    "# There are only 9 tiles around which you can center a 3x3 window, forming a 3x3 grid.\n",
    "# It shrinks by two tiles alongside each dimension.\n",
    "# You start with 28x28 inputs, which become 26x26 after the first convolution layer.\n",
    "\n",
    "# DEPTH 32 = the no. of filters computed\n",
    "# (3, 3) = size of the PATCHES extracted from the input\n",
    "# Conv2D(output_depth, (window_height, window_width) )\n",
    "\n",
    "model.add(layers.Conv2D(32, (3, 3), activation='relu', input_shape=(640, 640, 3)))\n",
    "\n",
    "# the max pooling operation\n",
    "# The size of the FEATURE MAPS is halved after every MaxPooling2D layer\n",
    "# i.e. from 638x638 to 319x319\n",
    "# The role of the max pooling is to aggresively downsample feature maps.\n",
    "# It consists of extracting windows from the input feature maps and outputting the max value of each channel.\n",
    "# It is conceptually similar to convolution, except that instead of transforming local patches via a leaned linear transformation (the convolution kernel), they are transformed via a hard\n",
    "# coded max tensor operation.\n",
    "# A big difference from convolution is that max pooling is usually done with 2x2 windows and stride 2 in order to downsample the feature maps by a factor of 2.\n",
    "# Convolution is typically done with 3x3 windows and no stride (stride 1)\n",
    "# The reason to use downsampling is to reduce the number of feature map coefficients to process, as well as to induce spatial filter hierarchies by making successive convolution layers \n",
    "# look at increasingly large windows (in terms of the fraction of the original input they cover).\n",
    "\n",
    "# (2, 2) = size of the PATCHES extracted from the input\n",
    "\n",
    "model.add(layers.MaxPooling2D((2, 2)))\n",
    "\n",
    "# The output of MaxPooling2D layer is a 3D tensor of shape (height, width, channels). \n",
    "# The width and height dimensions tend to shrink as you go deeper in the network. \n",
    "# The number of channels is controlled by the first argument passed to the Conv2D layers (32 or 64).\n",
    "\n",
    "model.add(layers.Conv2D(64, (3, 3), activation='relu'))\n",
    "model.add(layers.MaxPooling2D((2, 2)))\n",
    "\n",
    "model.add(layers.Conv2D(128, (3, 3), activation='relu'))\n",
    "model.add(layers.MaxPooling2D((2, 2)))\n",
    "\n",
    "model.add(layers.Conv2D(128, (3, 3), activation='relu'))\n",
    "model.add(layers.MaxPooling2D((2, 2)))\n",
    "\n",
    "model.add(layers.Flatten())\n",
    "\n",
    "model.add(layers.Dense(512, activation='relu'))\n",
    "\n",
    "# Because you’re attacking a binary-classification problem, you’ll end the network with a single unit (a Dense layer of size 1) and a sigmoid activation. \n",
    "# This unit will encode the probability that the network is looking at one class or the other.\n",
    "model.add(layers.Dense(1, activation='sigmoid'))\n"
   ]
  },
  {
   "cell_type": "code",
   "execution_count": 3,
   "id": "85cd01c1-13c6-4607-b8c8-8f70c5eb82c8",
   "metadata": {
    "tags": []
   },
   "outputs": [
    {
     "name": "stdout",
     "output_type": "stream",
     "text": [
      "Model: \"sequential\"\n",
      "_________________________________________________________________\n",
      " Layer (type)                Output Shape              Param #   \n",
      "=================================================================\n",
      " conv2d (Conv2D)             (None, 638, 638, 32)      896       \n",
      "                                                                 \n",
      " max_pooling2d (MaxPooling2  (None, 319, 319, 32)      0         \n",
      " D)                                                              \n",
      "                                                                 \n",
      " conv2d_1 (Conv2D)           (None, 317, 317, 64)      18496     \n",
      "                                                                 \n",
      " max_pooling2d_1 (MaxPoolin  (None, 158, 158, 64)      0         \n",
      " g2D)                                                            \n",
      "                                                                 \n",
      " conv2d_2 (Conv2D)           (None, 156, 156, 128)     73856     \n",
      "                                                                 \n",
      " max_pooling2d_2 (MaxPoolin  (None, 78, 78, 128)       0         \n",
      " g2D)                                                            \n",
      "                                                                 \n",
      " conv2d_3 (Conv2D)           (None, 76, 76, 128)       147584    \n",
      "                                                                 \n",
      " max_pooling2d_3 (MaxPoolin  (None, 38, 38, 128)       0         \n",
      " g2D)                                                            \n",
      "                                                                 \n",
      " flatten (Flatten)           (None, 184832)            0         \n",
      "                                                                 \n",
      " dense (Dense)               (None, 512)               94634496  \n",
      "                                                                 \n",
      " dense_1 (Dense)             (None, 1)                 513       \n",
      "                                                                 \n",
      "=================================================================\n",
      "Total params: 94875841 (361.92 MB)\n",
      "Trainable params: 94875841 (361.92 MB)\n",
      "Non-trainable params: 0 (0.00 Byte)\n",
      "_________________________________________________________________\n"
     ]
    }
   ],
   "source": [
    "\n",
    "model.summary()\n",
    "\n"
   ]
  },
  {
   "cell_type": "code",
   "execution_count": 4,
   "id": "15c53109-9c3a-4499-9bcb-e217837ba8e2",
   "metadata": {
    "tags": []
   },
   "outputs": [],
   "source": [
    "\n",
    "# For the compilation step, you’ll go with the RMSprop optimizer, as usual. \n",
    "# Because you ended the network with a single sigmoid unit, you’ll use binary crossentropy as the loss (as a reminder, check out table 4.1 for a cheatsheet on what loss \n",
    "# function to use in various situations).\n",
    "\n",
    "model.compile(loss='binary_crossentropy',\n",
    "                  optimizer=\"Adam\",  # optimizers.RMSprop(learning_rate=1e-4),\n",
    "                  metrics=['acc'])\n",
    "\n",
    "# network.compile(optimizer='rmsprop',\n",
    "#                 loss='categorical_crossentropy',\n",
    "#                 metrics=['accuracy'])\n",
    "\n",
    "# model.compile(optimizer=optimizers.RMSprop(lr=0.001),\n",
    "#               loss='mse',\n",
    "#               metrics=['accuracy'])\n"
   ]
  },
  {
   "cell_type": "markdown",
   "id": "ed5de0c2-967d-4e63-9997-3a29256e5ddd",
   "metadata": {},
   "source": [
    "## Train, validate, test split"
   ]
  },
  {
   "cell_type": "code",
   "execution_count": 5,
   "id": "b91c8415-f4ee-4c26-bff0-6e6f7ee03500",
   "metadata": {
    "tags": []
   },
   "outputs": [
    {
     "name": "stdout",
     "output_type": "stream",
     "text": [
      "total train cup images 1000\n",
      "total test cup images 500\n",
      "total validate cup images 500\n",
      "total train apple images 1000\n",
      "total test apple images 500\n",
      "total validate apple images 500\n"
     ]
    }
   ],
   "source": [
    "\n",
    "# Each split contains the same number of samples from each class: this is a bal- anced binary-classification problem, which means classification accuracy will be an appropriate \n",
    "# measure of success.\n",
    "\n",
    "cup_categoory_id = 1\n",
    "apple_category_id = 2\n",
    "\n",
    "cups_images_names = []\n",
    "apples_images_names = []\n",
    "\n",
    "for image_name in os.listdir(\"data/images_with_padding/cup\"):\n",
    "    cups_images_names.append(image_name)\n",
    "\n",
    "for image_name in os.listdir(\"data/images_with_padding/apple\"):\n",
    "    apples_images_names.append(image_name)\n",
    "    \n",
    "train_cups_images_names = cups_images_names[:1000]\n",
    "train_cups_images_labels = np.ones(1000) # example array([1, 1, 1, ..., 1, 1, 1], dtype=uint8)\n",
    "\n",
    "test_cups_images_names = cups_images_names[1000:1500]\n",
    "test_cups_images_labels = np.ones(500)\n",
    "\n",
    "validate_cups_images_names = cups_images_names[1500:2000]\n",
    "validate_cups_images_labels = np.ones(500)\n",
    "\n",
    "print(f\"total train cup images {len(train_cups_images_names)}\")\n",
    "print(f\"total test cup images {len(test_cups_images_names)}\")\n",
    "print(f\"total validate cup images {len(validate_cups_images_names)}\")\n",
    "\n",
    "train_apples_images_names = apples_images_names[:1000]\n",
    "train_apples_images_labels = np.ones(1000) * 2\n",
    "\n",
    "test_apples_images_names = apples_images_names[1000:1500]\n",
    "test_apples_images_labels = np.ones(500) * 2\n",
    "\n",
    "validate_apples_images_names = apples_images_names[1500:2000]\n",
    "validate_apples_images_labels = np.ones(500) * 2\n",
    "\n",
    "print(f\"total train apple images {len(train_apples_images_names)}\")\n",
    "print(f\"total test apple images {len(test_apples_images_names)}\")\n",
    "print(f\"total validate apple images {len(validate_apples_images_names)}\")\n"
   ]
  },
  {
   "cell_type": "markdown",
   "id": "97511a44-0ca0-4ff4-8efd-7d0d0a404dd5",
   "metadata": {},
   "source": [
    "### Train cups"
   ]
  },
  {
   "cell_type": "code",
   "execution_count": 7,
   "id": "77a2a611-a83e-4516-8775-76462233e253",
   "metadata": {
    "tags": []
   },
   "outputs": [
    {
     "name": "stdout",
     "output_type": "stream",
     "text": [
      ".DS_Store\n",
      "1000\n",
      "999\n"
     ]
    },
    {
     "data": {
      "image/png": "[encoded data removed]",
      "text/plain": [
       "<Figure size 640x480 with 1 Axes>"
      ]
     },
     "metadata": {},
     "output_type": "display_data"
    }
   ],
   "source": [
    "\n",
    "# Read the picture files.\n",
    "# Decode the JPEG content to RGB grids of pixels.\n",
    "# Convert these into floating-point tensors.\n",
    "# Rescale the pixel values (between 0 and 255) to the [0, 1] interval (as you know, neural networks prefer to deal \n",
    "# with small input values).\n",
    "\n",
    "#  Keras has a module with image-processing helper tools, located at keras.preprocessing.image. \n",
    "# In particular, it contains the class ImageDataGenerator, which lets you quickly set up Python generators that can \n",
    "# automatically turn image files on disk into batches of preprocessed tensors.\n",
    "\n",
    "train_cups_images = prepare_images_for_convnet(\"data/images_with_padding/cup/\", train_cups_images_names)\n",
    "del train_cups_images_names\n"
   ]
  },
  {
   "cell_type": "markdown",
   "id": "21f6c8ef-038f-40b0-8f9c-4e2121238390",
   "metadata": {},
   "source": [
    "### Test cups"
   ]
  },
  {
   "cell_type": "code",
   "execution_count": 8,
   "id": "8f127519-dcbf-44ca-875e-5af45b6b33db",
   "metadata": {
    "tags": []
   },
   "outputs": [
    {
     "name": "stdout",
     "output_type": "stream",
     "text": [
      "500\n",
      "500\n"
     ]
    },
    {
     "data": {
      "image/png": "[encoded data removed]",
      "text/plain": [
       "<Figure size 640x480 with 1 Axes>"
      ]
     },
     "metadata": {},
     "output_type": "display_data"
    }
   ],
   "source": [
    "\n",
    "test_cups_images = prepare_images_for_convnet(\"data/images_with_padding/cup/\", test_cups_images_names)\n",
    "del test_cups_images_names\n"
   ]
  },
  {
   "cell_type": "markdown",
   "id": "7cbdf470-2f29-4522-93fc-c9bfd94480c0",
   "metadata": {
    "tags": []
   },
   "source": [
    "### Validate cups"
   ]
  },
  {
   "cell_type": "code",
   "execution_count": 9,
   "id": "7e535717-a4db-4a50-9a69-461061a0c792",
   "metadata": {
    "tags": []
   },
   "outputs": [
    {
     "name": "stdout",
     "output_type": "stream",
     "text": [
      "500\n",
      "500\n"
     ]
    },
    {
     "data": {
      "image/png": "[encoded data removed]",
      "text/plain": [
       "<Figure size 640x480 with 1 Axes>"
      ]
     },
     "metadata": {},
     "output_type": "display_data"
    }
   ],
   "source": [
    "\n",
    "validate_cups_images = prepare_images_for_convnet(\"data/images_with_padding/cup/\", validate_cups_images_names)\n",
    "del validate_cups_images_names\n"
   ]
  },
  {
   "cell_type": "markdown",
   "id": "e7ae1017-0bca-4dd8-b0af-9fd71fbf271d",
   "metadata": {},
   "source": [
    "### Train apples"
   ]
  },
  {
   "cell_type": "code",
   "execution_count": 10,
   "id": "d70a06d1-b0d9-486b-ae31-d760f1b4ce1f",
   "metadata": {
    "tags": []
   },
   "outputs": [
    {
     "name": "stdout",
     "output_type": "stream",
     "text": [
      "1000\n",
      "1000\n"
     ]
    },
    {
     "data": {
      "image/png": "[encoded data removed]",
      "text/plain": [
       "<Figure size 640x480 with 1 Axes>"
      ]
     },
     "metadata": {},
     "output_type": "display_data"
    }
   ],
   "source": [
    "\n",
    "train_apples_images = prepare_images_for_convnet(\"data/images_with_padding/apple/\", train_apples_images_names)\n",
    "del train_apples_images_names\n"
   ]
  },
  {
   "cell_type": "markdown",
   "id": "c7ccdc52-290d-4a56-9f39-67b79ac4e36f",
   "metadata": {},
   "source": [
    "### Test apples"
   ]
  },
  {
   "cell_type": "code",
   "execution_count": 11,
   "id": "3fd5aa6f-024f-4ece-af12-421d8668d75f",
   "metadata": {},
   "outputs": [
    {
     "name": "stdout",
     "output_type": "stream",
     "text": [
      "500\n",
      "500\n"
     ]
    },
    {
     "data": {
      "image/png": "[encoded data removed]",
      "text/plain": [
       "<Figure size 640x480 with 1 Axes>"
      ]
     },
     "metadata": {},
     "output_type": "display_data"
    }
   ],
   "source": [
    "\n",
    "test_apples_images = prepare_images_for_convnet(\"data/images_with_padding/apple/\", test_apples_images_names)\n",
    "del test_apples_images_names\n"
   ]
  },
  {
   "cell_type": "markdown",
   "id": "2f305f9c-e4c1-4c43-ad61-a00c2f01dbe8",
   "metadata": {},
   "source": [
    "### Validate apples"
   ]
  },
  {
   "cell_type": "code",
   "execution_count": 12,
   "id": "cfd04a68-0042-4d09-886b-c56422b25538",
   "metadata": {},
   "outputs": [
    {
     "name": "stdout",
     "output_type": "stream",
     "text": [
      "500\n",
      "500\n"
     ]
    },
    {
     "data": {
      "image/png": "[encoded data removed]",
      "text/plain": [
       "<Figure size 640x480 with 1 Axes>"
      ]
     },
     "metadata": {},
     "output_type": "display_data"
    }
   ],
   "source": [
    "\n",
    "validate_apples_images = prepare_images_for_convnet(\"data/images_with_padding/apple/\", validate_apples_images_names)\n",
    "del validate_apples_images_names\n"
   ]
  },
  {
   "cell_type": "code",
   "execution_count": null,
   "id": "660caccc-7621-490c-bcfb-635dc28ba3b0",
   "metadata": {
    "tags": []
   },
   "outputs": [],
   "source": [
    "\n",
    "# merge data\n",
    "train_images = np.concatenate((train_apples_images, train_cups_images))\n",
    "del train_apples_images\n",
    "del train_cups_images\n",
    "\n",
    "train_labels = np.concatenate((train_apples_images_labels, train_cups_images_labels))\n",
    "del train_apples_images_labels\n",
    "del train_cups_images_labels\n",
    "\n",
    "test_images = np.concatenate((test_apples_images, train_cups_images))\n",
    "del test_apples_images\n",
    "del train_cups_images\n",
    "\n",
    "test_labels = np.concatenate((test_apples_images_labels, test_cups_images_labels))\n",
    "del test_apples_images_labels\n",
    "del test_cups_images_labels\n",
    "\n",
    "validate_images = np.concatenate((validate_apples_images, validate_cups_images))\n",
    "del validate_apples_images\n",
    "del validate_cups_images\n",
    "\n",
    "validate_labels = np.concatenate((validate_apples_images_labels, validate_cups_images_labels))\n",
    "del validate_apples_images_labels\n",
    "del validate_cups_images_labels\n"
   ]
  },
  {
   "cell_type": "markdown",
   "id": "7f2965ab-76cb-4632-ac79-a130d6566a4b",
   "metadata": {},
   "source": [
    "## Fit"
   ]
  },
  {
   "cell_type": "code",
   "execution_count": 18,
   "id": "43218b37-64b0-465e-8df2-d98b63777d19",
   "metadata": {
    "tags": []
   },
   "outputs": [
    {
     "ename": "ZeroDivisionError",
     "evalue": "division by zero",
     "output_type": "error",
     "traceback": [
      "\u001b[0;31m---------------------------------------------------------------------------\u001b[0m",
      "\u001b[0;31mZeroDivisionError\u001b[0m                         Traceback (most recent call last)",
      "Cell \u001b[0;32mIn[18], line 3\u001b[0m\n\u001b[1;32m      1\u001b[0m \u001b[38;5;66;03m#  after having drawn steps_per_epoch batches from the generator—that is, after having run for\u001b[39;00m\n\u001b[0;32m----> 3\u001b[0m \u001b[38;5;28mprint\u001b[39m(\u001b[38;5;241;43m8\u001b[39;49m\u001b[38;5;241;43m/\u001b[39;49m\u001b[38;5;241;43m0\u001b[39;49m)\n",
      "\u001b[0;31mZeroDivisionError\u001b[0m: division by zero"
     ]
    }
   ],
   "source": [
    "\n",
    "# X_train = images\n",
    "# y_train = labels\n",
    "\n",
    "history = model.fit(X_train, y_train, epochs=10, batch_size=32, validation_data=(X_val, y_val))\n"
   ]
  },
  {
   "cell_type": "code",
   "execution_count": null,
   "id": "d91f1c95-ef5c-4d10-b68c-b17ec97fb246",
   "metadata": {},
   "outputs": [],
   "source": [
    "\n",
    "model.save('cats_and_dogs_small_1.h5')\n"
   ]
  },
  {
   "cell_type": "code",
   "execution_count": null,
   "id": "a81f5a99-8936-40ea-a89e-717f42c27acf",
   "metadata": {},
   "outputs": [],
   "source": [
    "\n",
    "import matplotlib.pyplot as plt\n",
    "acc = history.history['acc']\n",
    "val_acc = history.history['val_acc']\n",
    "loss = history.history['loss']\n",
    "val_loss = history.history['val_loss']\n",
    "epochs = range(1, len(acc) + 1)\n",
    "plt.plot(epochs, acc, 'bo', label='Training acc')\n",
    "plt.plot(epochs, val_acc, 'b', label='Validation acc')\n",
    "plt.title('Training and validation accuracy')\n",
    "plt.legend()\n",
    "plt.figure()\n",
    "plt.plot(epochs, loss, 'bo', label='Training loss')\n",
    "plt.plot(epochs, val_loss, 'b', label='Validation loss')\n",
    "plt.title('Training and validation loss')\n",
    "plt.legend()\n",
    "plt.show()\n"
   ]
  },
  {
   "cell_type": "code",
   "execution_count": null,
   "id": "a7525723-0790-4f90-a472-35d4d2c85c27",
   "metadata": {},
   "outputs": [],
   "source": [
    "\n",
    "test_loss, test_acc = network.evaluate(test_images, test_labels)\n"
   ]
  },
  {
   "cell_type": "markdown",
   "id": "2a0a96d9-1a7d-4ffa-ab27-726f62d76ee5",
   "metadata": {},
   "source": [
    "## Optimization - data augmentation"
   ]
  },
  {
   "cell_type": "code",
   "execution_count": null,
   "id": "ee72c185-9b6d-4ec2-b745-4fdeb27ef71f",
   "metadata": {},
   "outputs": [],
   "source": [
    "\n",
    "# DL with Python\n",
    "# p. 138 - 142\n"
   ]
  },
  {
   "cell_type": "markdown",
   "id": "18c42778-b7b7-4625-af10-9d3a4391d462",
   "metadata": {},
   "source": [
    "# convnets - MNIST dataset"
   ]
  },
  {
   "cell_type": "code",
   "execution_count": null,
   "id": "35c8e408-32f3-4b4f-9d5d-175ece3152ef",
   "metadata": {},
   "outputs": [],
   "source": [
    "\n",
    "from keras.datasets import mnist\n",
    "from keras import models\n",
    "from keras import layers\n",
    "from keras.utils import to_categorical\n",
    "from keras import optimizers\n",
    "\n",
    "(train_images, train_labels), (test_images, test_labels) = mnist.load_data()\n"
   ]
  },
  {
   "cell_type": "code",
   "execution_count": null,
   "id": "7c0c967a-49e5-444f-8a61-febbed735adf",
   "metadata": {
    "tags": []
   },
   "outputs": [],
   "source": [
    "train_images"
   ]
  },
  {
   "cell_type": "code",
   "execution_count": null,
   "id": "813f1d9f-c523-4e1c-95af-c344423a69d2",
   "metadata": {
    "tags": []
   },
   "outputs": [],
   "source": [
    "train_images[0]"
   ]
  },
  {
   "cell_type": "code",
   "execution_count": null,
   "id": "89699d57-cb48-4af8-9411-4630d8cf2f0d",
   "metadata": {
    "tags": []
   },
   "outputs": [],
   "source": [
    "\n",
    "plt.imshow(train_images[0])\n",
    "plt.axis('off')  # Turn off axis labels\n",
    "plt.show()\n"
   ]
  },
  {
   "cell_type": "code",
   "execution_count": null,
   "id": "a105c5ed-38ac-40de-9d3f-9aae1b92a827",
   "metadata": {
    "tags": []
   },
   "outputs": [],
   "source": [
    "train_labels"
   ]
  },
  {
   "cell_type": "code",
   "execution_count": null,
   "id": "c5a604e6-2010-41d4-a861-edf24425f5c2",
   "metadata": {
    "tags": []
   },
   "outputs": [],
   "source": [
    "len(train_labels)"
   ]
  },
  {
   "cell_type": "code",
   "execution_count": null,
   "id": "316fe50a-f415-4bd5-b9f0-e832db9e444d",
   "metadata": {
    "tags": []
   },
   "outputs": [],
   "source": [
    "len(train_images[0])"
   ]
  },
  {
   "cell_type": "code",
   "execution_count": null,
   "id": "8646cd5a-2290-4ddf-9656-751eabdeec92",
   "metadata": {
    "tags": []
   },
   "outputs": [],
   "source": [
    "train_images.shape"
   ]
  },
  {
   "cell_type": "code",
   "execution_count": null,
   "id": "e8d47139-c853-4849-b23b-41485fb8bcc2",
   "metadata": {
    "tags": []
   },
   "outputs": [],
   "source": [
    "train_labels.shape"
   ]
  },
  {
   "cell_type": "code",
   "execution_count": null,
   "id": "25cff2ce-bd12-48bf-abad-2ff11c9f272d",
   "metadata": {},
   "outputs": [],
   "source": [
    "\n",
    "# resape and scale\n",
    "train_images = train_images.reshape((60000, 28 * 28))\n",
    "\n",
    "# Since pixel values in typical images are in the range of 0 to 255 (for 8-bit images), dividing by 255 scales the pixel values to \n",
    "# the range [0, 1]. This is known as normalization.\n",
    "train_images = train_images.astype('float32') / 255\n",
    "\n",
    "test_images = test_images.reshape((10000, 28 * 28))\n",
    "test_images = test_images.astype('float32') / 255\n"
   ]
  },
  {
   "cell_type": "code",
   "execution_count": null,
   "id": "ec324dfe-8bcf-465a-8e0c-b49dca8d091f",
   "metadata": {},
   "outputs": [],
   "source": [
    "\n",
    "# The function to_categorical is typically used when dealing with classification tasks\n",
    "# It converts class labels into one-hot encoded vectors\n",
    "\n",
    "# In classification tasks, especially with neural networks, the output layer usually has neurons corresponding to each class. \n",
    "# For example, if you have 10 classes, you would have 10 output neurons, each representing the probability of belonging to a particular class.\n",
    "\n",
    "# One-hot encoding is a binary representation of categorical variables where each class is represented by a binary vector. \n",
    "# In this representation, only one bit is high (1) while all others are low (0). This helps the network to understand the categorical \n",
    "# nature of the output and interpret it correctly during training.\n",
    "train_labels = to_categorical(train_labels)\n",
    "test_labels = to_categorical(test_labels)\n"
   ]
  },
  {
   "cell_type": "code",
   "execution_count": null,
   "id": "526d1eae-cc93-4612-853d-dcee69ddc923",
   "metadata": {},
   "outputs": [],
   "source": [
    "\n",
    "train_labels\n"
   ]
  },
  {
   "cell_type": "markdown",
   "id": "25decab0-6aa0-4754-a0ee-190629303fe3",
   "metadata": {
    "tags": []
   },
   "source": [
    "# Visualizing what convnets learn"
   ]
  },
  {
   "cell_type": "code",
   "execution_count": null,
   "id": "0e76fed1-4fb1-4a11-b066-d5546728f65a",
   "metadata": {},
   "outputs": [],
   "source": [
    "\n",
    "# p. 160 - 177\n"
   ]
  },
  {
   "cell_type": "code",
   "execution_count": null,
   "id": "1ceda39f-b5c3-4247-96f2-89d40dea4bd1",
   "metadata": {},
   "outputs": [],
   "source": []
  },
  {
   "cell_type": "code",
   "execution_count": null,
   "id": "4f5736b2-4a6c-4c84-8601-d213e37afc00",
   "metadata": {},
   "outputs": [],
   "source": [
    "\n"
   ]
  },
  {
   "cell_type": "code",
   "execution_count": null,
   "id": "9de2fb5b-26f5-4c0f-b997-c20592a2db65",
   "metadata": {},
   "outputs": [],
   "source": []
  }
 ],
 "metadata": {
  "kernelspec": {
   "display_name": "Python 3 (ipykernel)",
   "language": "python",
   "name": "python3"
  },
  "language_info": {
   "codemirror_mode": {
    "name": "ipython",
    "version": 3
   },
   "file_extension": ".py",
   "mimetype": "text/x-python",
   "name": "python",
   "nbconvert_exporter": "python",
   "pygments_lexer": "ipython3",
   "version": "3.9.18"
  }
 },
 "nbformat": 4,
 "nbformat_minor": 5
}
