{
 "cells": [
  {
   "cell_type": "markdown",
   "id": "70b7a73e-cfe0-408b-befa-78eaea709a23",
   "metadata": {},
   "source": [
    "# Requirements"
   ]
  },
  {
   "cell_type": "code",
   "execution_count": 3,
   "id": "98c449e6-1e9a-49b5-9cdf-2ef7d17d1912",
   "metadata": {},
   "outputs": [
    {
     "name": "stdout",
     "output_type": "stream",
     "text": [
      "Collecting opencv-python\n",
      "  Downloading opencv_python-4.8.1.78-cp37-abi3-macosx_10_16_x86_64.whl.metadata (19 kB)\n",
      "Requirement already satisfied: numpy>=1.17.0 in /Users/vladkototh/anaconda3/envs/datascience/lib/python3.9/site-packages (from opencv-python) (1.26.1)\n",
      "Downloading opencv_python-4.8.1.78-cp37-abi3-macosx_10_16_x86_64.whl (54.7 MB)\n",
      "\u001b[2K   \u001b[90m━━━━━━━━━━━━━━━━━━━━━━━━━━━━━━━━━━━━━━━━\u001b[0m \u001b[32m54.7/54.7 MB\u001b[0m \u001b[31m4.0 MB/s\u001b[0m eta \u001b[36m0:00:00\u001b[0m00:01\u001b[0m00:01\u001b[0m\n",
      "\u001b[?25hInstalling collected packages: opencv-python\n",
      "Successfully installed opencv-python-4.8.1.78\n",
      "Note: you may need to restart the kernel to use updated packages.\n"
     ]
    }
   ],
   "source": [
    "\n",
    "#pip install opencv-python\n"
   ]
  },
  {
   "cell_type": "markdown",
   "id": "338d664e-b762-41bb-8dc9-f4b7ea8bc3fd",
   "metadata": {},
   "source": [
    "# Imports"
   ]
  },
  {
   "cell_type": "code",
   "execution_count": 6,
   "id": "554c45e9-67c6-4a26-8da5-8a21a374cb77",
   "metadata": {},
   "outputs": [],
   "source": [
    "\n",
    "import cv2\n"
   ]
  },
  {
   "cell_type": "markdown",
   "id": "041a9321-d348-4cd0-a72c-ed7bbb07b3dc",
   "metadata": {},
   "source": [
    "# ObjectDetector"
   ]
  },
  {
   "cell_type": "code",
   "execution_count": null,
   "id": "f69631ca-e554-48d1-8d8f-50218326816e",
   "metadata": {},
   "outputs": [],
   "source": [
    "\n",
    "class ObjectDetector:\n",
    "    pass\n",
    "\n",
    "\n",
    "\n",
    "# # Load the pre-trained Haar Cascade classifier (you can use your own or download from OpenCV GitHub)\n",
    "# # For example, using the frontal face Haar Cascade classifier\n",
    "# face_cascade = cv2.CascadeClassifier(cv2.data.haarcascades + 'haarcascade_frontalface_default.xml')\n",
    "\n",
    "# # Read the input image\n",
    "# image_path = 'path/to/your/image.jpg'\n",
    "# img = cv2.imread(image_path)\n",
    "# gray = cv2.cvtColor(img, cv2.COLOR_BGR2GRAY)\n",
    "\n",
    "# # Perform face detection\n",
    "# faces = face_cascade.detectMultiScale(gray, scaleFactor=1.3, minNeighbors=5)\n",
    "\n",
    "# # Draw rectangles around the detected faces\n",
    "# for (x, y, w, h) in faces:\n",
    "#     cv2.rectangle(img, (x, y), (x+w, y+h), (255, 0, 0), 2)\n",
    "\n",
    "# # Display the result\n",
    "# cv2.imshow('Detected Objects', img)\n",
    "# cv2.waitKey(0)\n",
    "# cv2.destroyAllWindows()"
   ]
  },
  {
   "cell_type": "markdown",
   "id": "3cdae205-60b3-411d-b160-b10b08889f67",
   "metadata": {},
   "source": [
    "# Detect"
   ]
  },
  {
   "cell_type": "code",
   "execution_count": null,
   "id": "6205a952-6785-492f-84b4-63b34efbb232",
   "metadata": {},
   "outputs": [],
   "source": []
  }
 ],
 "metadata": {
  "kernelspec": {
   "display_name": "Python 3 (ipykernel)",
   "language": "python",
   "name": "python3"
  },
  "language_info": {
   "codemirror_mode": {
    "name": "ipython",
    "version": 3
   },
   "file_extension": ".py",
   "mimetype": "text/x-python",
   "name": "python",
   "nbconvert_exporter": "python",
   "pygments_lexer": "ipython3",
   "version": "3.9.18"
  }
 },
 "nbformat": 4,
 "nbformat_minor": 5
}
